import numpy as np
import matplotlib.pyplot as plt
import pandas as pd
from scipy.optimize import bisect
from IPython.display import display, Markdown

# Introdução ao Método da Bissecção
display(Markdown(r"""
# Método da Bissecção

O **método da bissecção** é um método numérico para encontrar raízes de funções contínuas.
Ele é baseado no **Teorema do Valor Intermediário**, que afirma que se uma função contínua \( f(x) \)
assume valores de sinais opostos em dois pontos \( a \) e \( b \), então existe pelo menos uma raiz \( r \) dentro desse intervalo.

Matematicamente, se:

\[
f(a) \cdot f(b) < 0
\]

então existe um valor \( r \) em \( (a, b) \) tal que \( f(r) = 0 \).

## Como funciona o Método?
1. Definimos um intervalo inicial \([a, b]\) tal que \( f(a) \cdot f(b) < 0 \).
2. Calculamos o **ponto médio**:
   \[
   m = \frac{a + b}{2}
   \]
3. Avaliamos \( f(m) \):
   - Se \( f(m) \approx 0 \), encontramos a raiz.
   - Se \( f(a) \cdot f(m) < 0 \), então a raiz está em \([a, m]\), redefinimos \( b = m \).
   - Caso contrário, a raiz está em \([m, b]\), redefinimos \( a = m \).
4. Repetimos esse processo até que o tamanho do intervalo seja menor que uma **tolerância** predefinida.

## Número de Iterações
O número máximo de iterações \( n \) necessárias para garantir a precisão desejada é dado por:

\[
n = \log_2 \left(\frac{|b - a|}{\text{tolerância}}\right)
\]
"""))

# Definição da função
def f(x):
    return x * np.log(x) - 3

# Método da Bissecção
def bissec(a: float, b: float, tolerancia: float = 1e-12):
    """
    Método da Bissecção para encontrar uma raiz de f(x) no intervalo [a, b].

    Parâmetros:
    a (float): Limite inferior do intervalo.
    b (float): Limite superior do intervalo.
    tolerancia (float, opcional): Critério de parada. O padrão é 1e-12.

    Retorna:
    DataFrame com os valores intermediários das iterações e o valor aproximado da raiz.
    """
    if f(a) * f(b) > 0:
        raise ValueError("Não há garantia de raiz nesse intervalo.")
    
    iteracoes = []
    valores_a = []
    valores_b = []
    valores_m = []
    valores_fm = []
    
    while abs(b - a) > tolerancia:
        m = (a + b) / 2
        fm = f(m)
        
        iteracoes.append(len(iteracoes) + 1)
        valores_a.append(a)
        valores_b.append(b)
        valores_m.append(m)
        valores_fm.append(fm)
        
        if abs(fm) < tolerancia:
            break
        
        if f(a) * fm < 0:
            b = m
        else:
            a = m
    
    df_iteracoes = pd.DataFrame({
        "Iteração": iteracoes,
        "a": valores_a,
        "b": valores_b,
        "m (Ponto Médio)": valores_m,
        "f(m)": valores_fm
    })
    
    return df_iteracoes, m

# Definição do intervalo
a, b = 2, 3

df_resultados, raiz_aproximada = bissec(a, b)

# Exibir os resultados
display(Markdown("### Tabela de Iterações"))
display(df_resultados)
print(f"Raiz aproximada: {raiz_aproximada}")

# Gráfico da Função
x_vals = np.linspace(1.5, 3.5, 400)
y_vals = f(x_vals)

plt.figure(figsize=(8, 5))
plt.plot(x_vals, y_vals, label=r'$f(x) = x \ln(x) - 3$', color='b')
plt.axhline(0, color='black', linestyle='--')
plt.axvline(raiz_aproximada, color='r', linestyle='--', label=f'Raiz Aproximada: {raiz_aproximada:.12f}')
plt.xlabel('x')
plt.ylabel('f(x)')
plt.title('Gráfico da Função e Raiz Aproximada')
plt.legend()
plt.grid()
plt.show()

# Conclusão
display(Markdown(r"""
## Conclusão
O **método da bissecção** é uma forma confiável de encontrar raízes de funções contínuas. Ele é especialmente útil quando temos um intervalo conhecido onde a função muda de sinal. A precisão final depende da tolerância escolhida e do número de iterações, conforme mostrado na equação:

\[
n = \log_2 \left(\frac{|b - a|}{\text{tolerância}}\right)
\]

No caso deste exemplo, encontramos que a raiz aproximada da equação \( x \ln x - 3 = 0 \) é **{raiz_aproximada:.12f}**.
"""))
